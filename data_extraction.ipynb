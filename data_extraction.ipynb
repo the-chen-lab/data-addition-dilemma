{
 "cells": [
  {
   "cell_type": "code",
   "execution_count": 1,
   "id": "ccf23d4e-1694-4e91-add4-f32d87bb4d95",
   "metadata": {},
   "outputs": [],
   "source": [
    "import numpy as np\n",
    "import pandas as pd"
   ]
  },
  {
   "cell_type": "code",
   "execution_count": 2,
   "id": "872957d6-e8f8-4f59-9e70-22e05fcc3e42",
   "metadata": {},
   "outputs": [],
   "source": [
    "hospital_file = 'YAIB-cohorts/data/mortality24/eicu/above2000.txt'\n",
    "df = pd.read_csv(hospital_file, header=None)"
   ]
  },
  {
   "cell_type": "code",
   "execution_count": 3,
   "id": "53676b29-371c-4369-bc18-48cc476198c8",
   "metadata": {},
   "outputs": [],
   "source": [
    "hospital_list = df.values.flatten()"
   ]
  },
  {
   "cell_type": "code",
   "execution_count": 10,
   "id": "ec58ce89-6851-4296-a597-85759b064902",
   "metadata": {},
   "outputs": [],
   "source": [
    "save_dict = {} \n",
    "for h in hospital_list: \n",
    "    load_data = np.load(f\"yaib_logs/eicu/Mortality24/LogisticRegression/train{h}-test{h}/data.npz\", allow_pickle=True)\n",
    "    all_features = np.concatenate([load_data['train'].item()['features'], \n",
    "                                  load_data['val'].item()['features'], \n",
    "                                  load_data['test'].item()['features']])\n",
    "    all_labels = np.concatenate([load_data['train'].item()['labels'], \n",
    "                              load_data['val'].item()['labels'], \n",
    "                              load_data['test'].item()['labels']])\n",
    "    save_dict[str(h)] = {}\n",
    "    save_dict[str(h)]['features'] = all_features\n",
    "    save_dict[str(h)]['labels']= all_labels"
   ]
  },
  {
   "cell_type": "code",
   "execution_count": 11,
   "id": "999bf9e7-21bc-4d3e-a41c-0c007a2da2ee",
   "metadata": {},
   "outputs": [],
   "source": [
    "np.savez(\"processed_data/all_hospitals.npz\", **save_dict)"
   ]
  },
  {
   "cell_type": "code",
   "execution_count": 15,
   "id": "a3131a68-76ef-439a-a46f-dcb4ac258f25",
   "metadata": {},
   "outputs": [
    {
     "data": {
      "text/plain": [
       "array({'features': array([[-0.60222611, -0.43733733, -0.24494304, ...,  0.95820366,\n",
       "        -0.44720557,  3.        ],\n",
       "       [ 0.        ,  0.        ,  0.        , ..., -0.39895073,\n",
       "        -0.88033197,  3.        ],\n",
       "       [ 0.        ,  0.        ,  0.        , ...,  0.95820366,\n",
       "         0.20603423,  3.        ],\n",
       "       ...,\n",
       "       [-0.14719565, -0.07771419, -0.24006893, ...,  0.73498748,\n",
       "        -0.66731899,  3.        ],\n",
       "       [ 0.        ,  0.        ,  0.        , ..., -0.62216692,\n",
       "        -0.68862028,  3.        ],\n",
       "       [ 0.        ,  0.        ,  0.        , ..., -1.53288894,\n",
       "        -1.50872026,  3.        ]]), 'labels': array([0., 0., 0., ..., 0., 0., 0.])},\n",
       "      dtype=object)"
      ]
     },
     "execution_count": 15,
     "metadata": {},
     "output_type": "execute_result"
    }
   ],
   "source": [
    "load_data = np.load(\"processed_data/all_hospitals.npz\", allow_pickle=True)\n",
    "load_data['73']"
   ]
  },
  {
   "cell_type": "code",
   "execution_count": 18,
   "id": "ca6551f3-9471-4159-82e4-a4913af21618",
   "metadata": {},
   "outputs": [
    {
     "name": "stdout",
     "output_type": "stream",
     "text": [
      "AUC score: 0.7495\n"
     ]
    }
   ],
   "source": [
    "from sklearn.linear_model import LogisticRegression\n",
    "from sklearn.model_selection import train_test_split\n",
    "from sklearn.metrics import roc_auc_score\n",
    "\n",
    "X, y = load_data['122'].item()['features'], load_data['122'].item()['labels']\n",
    "\n",
    "# Split data into training and testing sets\n",
    "X_train, X_test, y_train, y_test = train_test_split(X, y, test_size=0.2, random_state=42)\n",
    "\n",
    "# Initialize and train the logistic regression model\n",
    "model = LogisticRegression(max_iter=1000)\n",
    "model.fit(X_train, y_train)\n",
    "\n",
    "# Make predictions on test data\n",
    "y_pred_proba = model.predict_proba(X_test)[:, 1]\n",
    "\n",
    "auc_score = roc_auc_score(y_test, y_pred_proba)\n",
    "print(f\"AUC score: {auc_score:.4f}\")"
   ]
  },
  {
   "cell_type": "code",
   "execution_count": null,
   "id": "e7468be8-bc33-4e8c-915f-ac2aa340f072",
   "metadata": {},
   "outputs": [],
   "source": []
  }
 ],
 "metadata": {
  "kernelspec": {
   "display_name": "Python 3 (ipykernel)",
   "language": "python",
   "name": "python3"
  },
  "language_info": {
   "codemirror_mode": {
    "name": "ipython",
    "version": 3
   },
   "file_extension": ".py",
   "mimetype": "text/x-python",
   "name": "python",
   "nbconvert_exporter": "python",
   "pygments_lexer": "ipython3",
   "version": "3.10.14"
  }
 },
 "nbformat": 4,
 "nbformat_minor": 5
}
